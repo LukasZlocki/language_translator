{
 "cells": [
  {
   "cell_type": "code",
   "execution_count": 34,
   "id": "d6dd188d-7a00-4799-aaae-6195d882b506",
   "metadata": {},
   "outputs": [],
   "source": [
    "from googletrans import Translator\n",
    "import asyncio\n",
    "import pandas as pd\n",
    "import re"
   ]
  },
  {
   "cell_type": "code",
   "execution_count": 35,
   "id": "fdfb04eb-cfc6-4389-b9d2-08aed008de73",
   "metadata": {},
   "outputs": [],
   "source": [
    "def remove_string_up_to_given_sign(text, sign):\n",
    "    \"\"\"\n",
    "    Remove translated context from text.\n",
    "\n",
    "    Arguments:\n",
    "        text(string): A string in which translated context need to be removed\n",
    "        sign: Seperation sign between context and pure text\\\n",
    "\n",
    "    Return:\n",
    "        text_cleared(string) Cleared text without context\n",
    "        \"\"\"\n",
    "    text_cleared = re.sub(r'^.*?: ', '', text)\n",
    "    return text_cleared\n",
    "    "
   ]
  },
  {
   "cell_type": "code",
   "execution_count": 36,
   "id": "086318bc-e2ab-45c7-bae8-248e5bd39a93",
   "metadata": {},
   "outputs": [],
   "source": [
    "async def translate_to_given_language(text, destination_language):\n",
    "    \"\"\" \n",
    "    Translate the given text to the specified destination language and clear the context from translated text. \n",
    "    Arguments: \n",
    "        text (str): The text to translate. \n",
    "        dest_language (str): The language code for the destination language (e.g., 'es' for Spanish, 'fr' for French). \n",
    "    Returns: \n",
    "        str: The translated text with context removed. \n",
    "    \"\"\"\n",
    "    translator = Translator()\n",
    "    translation = await translator.translate(text, dest=destination_language)\n",
    "    cleared_translated_text = remove_string_up_to_given_sign(translation.text, ':')\n",
    "    return cleared_translated_text"
   ]
  },
  {
   "cell_type": "code",
   "execution_count": 37,
   "id": "a22a6fb5-40b3-410e-8c4a-dad095c57ed5",
   "metadata": {},
   "outputs": [],
   "source": [
    "async def translate_dataset_with_context(dataset, context, destination_language): \n",
    "    \"\"\" Translate a dataset of text with context included to the specified destination language. \n",
    "    Arguments: \n",
    "        dataset (list): A list of text to translate. \n",
    "        context (string): A context to help translator with catch up context of translated dataset\n",
    "        destination_language (str): The language code for the destination language (e.g., 'pl' for Polish). \n",
    "        \n",
    "    Returns: list: A list of translated text. \n",
    "    \"\"\" \n",
    "    \n",
    "    tasks = [translate_to_given_language(f'{context} {text}', destination_language) for text in dataset] \n",
    "    translated_dataset = await asyncio.gather(*tasks) \n",
    "    \n",
    "    return translated_dataset"
   ]
  },
  {
   "cell_type": "code",
   "execution_count": 38,
   "id": "b7c957c2-3dad-4f57-a246-1f2367779a9a",
   "metadata": {},
   "outputs": [],
   "source": [
    "# File name to read\n",
    "file_name_read = 'AlarmTranslation.csv'\n",
    "\n",
    "# File name to save\n",
    "file_name_save = 'AlarmTranslation_pl.txt'"
   ]
  },
  {
   "cell_type": "code",
   "execution_count": 39,
   "id": "d80440a2-8917-4e52-b946-8a292df41ae8",
   "metadata": {},
   "outputs": [],
   "source": [
    "# Load data to dataset\n",
    "df = pd.read_csv(file_name_read, sep=';',  encoding='utf-8')"
   ]
  },
  {
   "cell_type": "code",
   "execution_count": 40,
   "id": "6179ef63-d48e-4cc3-87ce-ad303077a0aa",
   "metadata": {},
   "outputs": [
    {
     "data": {
      "text/html": [
       "<div>\n",
       "<style scoped>\n",
       "    .dataframe tbody tr th:only-of-type {\n",
       "        vertical-align: middle;\n",
       "    }\n",
       "\n",
       "    .dataframe tbody tr th {\n",
       "        vertical-align: top;\n",
       "    }\n",
       "\n",
       "    .dataframe thead th {\n",
       "        text-align: right;\n",
       "    }\n",
       "</style>\n",
       "<table border=\"1\" class=\"dataframe\">\n",
       "  <thead>\n",
       "    <tr style=\"text-align: right;\">\n",
       "      <th></th>\n",
       "      <th>AlarmCode</th>\n",
       "      <th>AlarmDescription(it)</th>\n",
       "      <th>AlarmDescription(en)</th>\n",
       "      <th>AlarmDescription(Pl)</th>\n",
       "      <th>Instructions(it)</th>\n",
       "      <th>Instructions(en)</th>\n",
       "      <th>Instructions(Pl)</th>\n",
       "      <th>ZoneDescription(it)</th>\n",
       "      <th>ZoneDescription(en)</th>\n",
       "      <th>ZoneDescription(Pl)</th>\n",
       "      <th>VariabileAllarme</th>\n",
       "      <th>Gravita</th>\n",
       "      <th>CodicePosizione</th>\n",
       "      <th>CodiceCategoria</th>\n",
       "    </tr>\n",
       "  </thead>\n",
       "  <tbody>\n",
       "    <tr>\n",
       "      <th>0</th>\n",
       "      <td>0000_00</td>\n",
       "      <td>Carro 1 allarme conteggio salita-discesa</td>\n",
       "      <td>Hoist 1 Up-Down counter error</td>\n",
       "      <td>NaN</td>\n",
       "      <td>Controlla Finecorsa Carro Alto - Basso - Conte...</td>\n",
       "      <td>Check hoist up down and counter limit switch</td>\n",
       "      <td>NaN</td>\n",
       "      <td>Carro 1</td>\n",
       "      <td>Hoist 1</td>\n",
       "      <td>NaN</td>\n",
       "      <td>All_0000_00</td>\n",
       "      <td>3.0</td>\n",
       "      <td>NaN</td>\n",
       "      <td>Carro</td>\n",
       "    </tr>\n",
       "    <tr>\n",
       "      <th>1</th>\n",
       "      <td>0000_01</td>\n",
       "      <td>Carro 1 manca finecorsa alto o basso in trasla...</td>\n",
       "      <td>Hoist 1 translation up or down limit switch mi...</td>\n",
       "      <td>NaN</td>\n",
       "      <td>Controlla finecorsa Carro Alto - Basso</td>\n",
       "      <td>Check hoist up down limit switch</td>\n",
       "      <td>NaN</td>\n",
       "      <td>Carro 1</td>\n",
       "      <td>Hoist 1</td>\n",
       "      <td>NaN</td>\n",
       "      <td>All_0000_01</td>\n",
       "      <td>3.0</td>\n",
       "      <td>NaN</td>\n",
       "      <td>Carro</td>\n",
       "    </tr>\n",
       "    <tr>\n",
       "      <th>2</th>\n",
       "      <td>0000_02</td>\n",
       "      <td>Carro 1 collisione avanti</td>\n",
       "      <td>Hoist 1 collision forward</td>\n",
       "      <td>NaN</td>\n",
       "      <td>Controlla finecorsa collisione - sistema conte...</td>\n",
       "      <td>Check collision limit switch- position countin...</td>\n",
       "      <td>NaN</td>\n",
       "      <td>Carro 1</td>\n",
       "      <td>Hoist 1</td>\n",
       "      <td>NaN</td>\n",
       "      <td>All_0000_02</td>\n",
       "      <td>3.0</td>\n",
       "      <td>NaN</td>\n",
       "      <td>Carro</td>\n",
       "    </tr>\n",
       "    <tr>\n",
       "      <th>3</th>\n",
       "      <td>0000_03</td>\n",
       "      <td>Carro 1 extracorsa indietro</td>\n",
       "      <td>Hoist 1 collision backward</td>\n",
       "      <td>NaN</td>\n",
       "      <td>Controlla finecorsa collisione - sistema conte...</td>\n",
       "      <td>Check collision limit switch- position countin...</td>\n",
       "      <td>NaN</td>\n",
       "      <td>Carro 1</td>\n",
       "      <td>Hoist 1</td>\n",
       "      <td>NaN</td>\n",
       "      <td>All_0000_03</td>\n",
       "      <td>3.0</td>\n",
       "      <td>NaN</td>\n",
       "      <td>Carro</td>\n",
       "    </tr>\n",
       "    <tr>\n",
       "      <th>4</th>\n",
       "      <td>0000_04</td>\n",
       "      <td>Carro 1 allarme inverter</td>\n",
       "      <td>Hoist 1 inverter error</td>\n",
       "      <td>NaN</td>\n",
       "      <td>Controlla inverter movimentazione carro</td>\n",
       "      <td>Check hoist movimentation inverter</td>\n",
       "      <td>NaN</td>\n",
       "      <td>Carro 1</td>\n",
       "      <td>Hoist 1</td>\n",
       "      <td>NaN</td>\n",
       "      <td>All_0000_04</td>\n",
       "      <td>3.0</td>\n",
       "      <td>NaN</td>\n",
       "      <td>Carro</td>\n",
       "    </tr>\n",
       "  </tbody>\n",
       "</table>\n",
       "</div>"
      ],
      "text/plain": [
       "  AlarmCode                               AlarmDescription(it)  \\\n",
       "0   0000_00           Carro 1 allarme conteggio salita-discesa   \n",
       "1   0000_01  Carro 1 manca finecorsa alto o basso in trasla...   \n",
       "2   0000_02                          Carro 1 collisione avanti   \n",
       "3   0000_03                        Carro 1 extracorsa indietro   \n",
       "4   0000_04                           Carro 1 allarme inverter   \n",
       "\n",
       "                                AlarmDescription(en) AlarmDescription(Pl)  \\\n",
       "0                      Hoist 1 Up-Down counter error                  NaN   \n",
       "1  Hoist 1 translation up or down limit switch mi...                  NaN   \n",
       "2                          Hoist 1 collision forward                  NaN   \n",
       "3                         Hoist 1 collision backward                  NaN   \n",
       "4                             Hoist 1 inverter error                  NaN   \n",
       "\n",
       "                                    Instructions(it)  \\\n",
       "0  Controlla Finecorsa Carro Alto - Basso - Conte...   \n",
       "1             Controlla finecorsa Carro Alto - Basso   \n",
       "2  Controlla finecorsa collisione - sistema conte...   \n",
       "3  Controlla finecorsa collisione - sistema conte...   \n",
       "4            Controlla inverter movimentazione carro   \n",
       "\n",
       "                                    Instructions(en) Instructions(Pl)  \\\n",
       "0       Check hoist up down and counter limit switch              NaN   \n",
       "1                   Check hoist up down limit switch              NaN   \n",
       "2  Check collision limit switch- position countin...              NaN   \n",
       "3  Check collision limit switch- position countin...              NaN   \n",
       "4                 Check hoist movimentation inverter              NaN   \n",
       "\n",
       "  ZoneDescription(it) ZoneDescription(en) ZoneDescription(Pl)  \\\n",
       "0             Carro 1             Hoist 1                 NaN   \n",
       "1             Carro 1             Hoist 1                 NaN   \n",
       "2             Carro 1             Hoist 1                 NaN   \n",
       "3             Carro 1             Hoist 1                 NaN   \n",
       "4             Carro 1             Hoist 1                 NaN   \n",
       "\n",
       "  VariabileAllarme  Gravita CodicePosizione CodiceCategoria  \n",
       "0      All_0000_00      3.0             NaN           Carro  \n",
       "1      All_0000_01      3.0             NaN           Carro  \n",
       "2      All_0000_02      3.0             NaN           Carro  \n",
       "3      All_0000_03      3.0             NaN           Carro  \n",
       "4      All_0000_04      3.0             NaN           Carro  "
      ]
     },
     "execution_count": 40,
     "metadata": {},
     "output_type": "execute_result"
    }
   ],
   "source": [
    "df.head(5)"
   ]
  },
  {
   "cell_type": "code",
   "execution_count": 41,
   "id": "a316ff45-aa14-40d0-8139-6e024191bc45",
   "metadata": {},
   "outputs": [
    {
     "data": {
      "text/plain": [
       "Index(['AlarmCode', 'AlarmDescription(it)', 'AlarmDescription(en)',\n",
       "       'AlarmDescription(Pl)', 'Instructions(it)', 'Instructions(en)',\n",
       "       'Instructions(Pl)', 'ZoneDescription(it)', 'ZoneDescription(en)',\n",
       "       'ZoneDescription(Pl)', 'VariabileAllarme', 'Gravita', 'CodicePosizione',\n",
       "       'CodiceCategoria'],\n",
       "      dtype='object')"
      ]
     },
     "execution_count": 41,
     "metadata": {},
     "output_type": "execute_result"
    }
   ],
   "source": [
    "df.columns"
   ]
  },
  {
   "cell_type": "code",
   "execution_count": 42,
   "id": "4a6c0d79-11f6-43e4-a335-8d1c7edf140c",
   "metadata": {},
   "outputs": [
    {
     "data": {
      "text/plain": [
       "0    Hoist 1\n",
       "1    Hoist 1\n",
       "2    Hoist 1\n",
       "3    Hoist 1\n",
       "4    Hoist 1\n",
       "5    Hoist 1\n",
       "6    Hoist 1\n",
       "7    Hoist 1\n",
       "8    Hoist 1\n",
       "9    Hoist 1\n",
       "Name: ZoneDescription(en), dtype: object"
      ]
     },
     "execution_count": 42,
     "metadata": {},
     "output_type": "execute_result"
    }
   ],
   "source": [
    "extracted_df = df['ZoneDescription(en)']\n",
    "extracted_df.head(10)"
   ]
  },
  {
   "cell_type": "code",
   "execution_count": 43,
   "id": "ed9d1ac5-d835-4da6-8d0c-e0eb1d97c8ac",
   "metadata": {},
   "outputs": [
    {
     "data": {
      "text/plain": [
       "Index(['AlarmCode', 'AlarmDescription(it)', 'AlarmDescription(en)',\n",
       "       'AlarmDescription(Pl)', 'Instructions(it)', 'Instructions(en)',\n",
       "       'Instructions(Pl)', 'ZoneDescription(it)', 'ZoneDescription(en)',\n",
       "       'ZoneDescription(Pl)', 'VariabileAllarme', 'Gravita', 'CodicePosizione',\n",
       "       'CodiceCategoria'],\n",
       "      dtype='object')"
      ]
     },
     "execution_count": 43,
     "metadata": {},
     "output_type": "execute_result"
    }
   ],
   "source": [
    "df.columns"
   ]
  },
  {
   "cell_type": "code",
   "execution_count": 44,
   "id": "a0ccc745-06e1-4ea2-a504-3934c6c940b8",
   "metadata": {},
   "outputs": [],
   "source": [
    "# Context to inject\n",
    "context_inject = \"translate plc alarm:\""
   ]
  },
  {
   "cell_type": "code",
   "execution_count": 45,
   "id": "a5ace483-d721-4b16-9e51-9bac759eaed1",
   "metadata": {},
   "outputs": [
    {
     "name": "stdout",
     "output_type": "stream",
     "text": [
      "translated rows: 5\n",
      "translated rows: 10\n"
     ]
    }
   ],
   "source": [
    "batch_size = 5\n",
    "max_file = len(extracted_df)\n",
    "max_file = 9\n",
    "counter = 0\n",
    "column_translated = []\n",
    "for i in range(0, max_file, batch_size):\n",
    "    batch_df = extracted_df[i:i + batch_size]\n",
    "    batch_column_translated = await translate_dataset_with_context(batch_df,context_inject, 'pl')\n",
    "    column_translated.extend(batch_column_translated)  # Use extend instead of append\n",
    "    counter = counter + batch_size\n",
    "    print(f\"translated rows: {counter}\")\n",
    "\n",
    "#for text in column_translated:\n",
    "    #print(text)"
   ]
  },
  {
   "cell_type": "code",
   "execution_count": 46,
   "id": "3f3d1152-96c9-4ce0-ae05-2180e00f4472",
   "metadata": {},
   "outputs": [
    {
     "data": {
      "text/html": [
       "<div>\n",
       "<style scoped>\n",
       "    .dataframe tbody tr th:only-of-type {\n",
       "        vertical-align: middle;\n",
       "    }\n",
       "\n",
       "    .dataframe tbody tr th {\n",
       "        vertical-align: top;\n",
       "    }\n",
       "\n",
       "    .dataframe thead th {\n",
       "        text-align: right;\n",
       "    }\n",
       "</style>\n",
       "<table border=\"1\" class=\"dataframe\">\n",
       "  <thead>\n",
       "    <tr style=\"text-align: right;\">\n",
       "      <th></th>\n",
       "      <th>ZoneDescription(Pl)</th>\n",
       "    </tr>\n",
       "  </thead>\n",
       "  <tbody>\n",
       "    <tr>\n",
       "      <th>0</th>\n",
       "      <td>wciągnik 1</td>\n",
       "    </tr>\n",
       "    <tr>\n",
       "      <th>1</th>\n",
       "      <td>wciągnik 1</td>\n",
       "    </tr>\n",
       "    <tr>\n",
       "      <th>2</th>\n",
       "      <td>wciągnik 1</td>\n",
       "    </tr>\n",
       "    <tr>\n",
       "      <th>3</th>\n",
       "      <td>wciągnik 1</td>\n",
       "    </tr>\n",
       "    <tr>\n",
       "      <th>4</th>\n",
       "      <td>wciągnik 1</td>\n",
       "    </tr>\n",
       "    <tr>\n",
       "      <th>5</th>\n",
       "      <td>wciągnik 1</td>\n",
       "    </tr>\n",
       "    <tr>\n",
       "      <th>6</th>\n",
       "      <td>wciągnik 1</td>\n",
       "    </tr>\n",
       "    <tr>\n",
       "      <th>7</th>\n",
       "      <td>wciągnik 1</td>\n",
       "    </tr>\n",
       "    <tr>\n",
       "      <th>8</th>\n",
       "      <td>wciągnik 1</td>\n",
       "    </tr>\n",
       "    <tr>\n",
       "      <th>9</th>\n",
       "      <td>wciągnik 1</td>\n",
       "    </tr>\n",
       "  </tbody>\n",
       "</table>\n",
       "</div>"
      ],
      "text/plain": [
       "  ZoneDescription(Pl)\n",
       "0          wciągnik 1\n",
       "1          wciągnik 1\n",
       "2          wciągnik 1\n",
       "3          wciągnik 1\n",
       "4          wciągnik 1\n",
       "5          wciągnik 1\n",
       "6          wciągnik 1\n",
       "7          wciągnik 1\n",
       "8          wciągnik 1\n",
       "9          wciągnik 1"
      ]
     },
     "execution_count": 46,
     "metadata": {},
     "output_type": "execute_result"
    }
   ],
   "source": [
    "df_temp = pd.DataFrame(column_translated, columns=['ZoneDescription(Pl)'])\n",
    "df_temp.head(10)"
   ]
  },
  {
   "cell_type": "code",
   "execution_count": 47,
   "id": "13d7662c-3666-45eb-9bda-36b8180ad322",
   "metadata": {},
   "outputs": [],
   "source": [
    "df_temp.to_csv(\"df_temp3.csv\", sep=';', index=False)"
   ]
  },
  {
   "cell_type": "code",
   "execution_count": 48,
   "id": "d5e06f88-8096-453b-a445-0262e8374d74",
   "metadata": {},
   "outputs": [
    {
     "ename": "ValueError",
     "evalue": "Length of values (10) does not match length of index (3372)",
     "output_type": "error",
     "traceback": [
      "\u001b[1;31m---------------------------------------------------------------------------\u001b[0m",
      "\u001b[1;31mValueError\u001b[0m                                Traceback (most recent call last)",
      "Cell \u001b[1;32mIn[48], line 2\u001b[0m\n\u001b[0;32m      1\u001b[0m \u001b[38;5;66;03m# Now column_translated should match the length of the DataFrame\u001b[39;00m\n\u001b[1;32m----> 2\u001b[0m \u001b[43mdf\u001b[49m\u001b[43m[\u001b[49m\u001b[38;5;124;43m'\u001b[39;49m\u001b[38;5;124;43mZoneDescription(Pl)\u001b[39;49m\u001b[38;5;124;43m'\u001b[39;49m\u001b[43m]\u001b[49m \u001b[38;5;241m=\u001b[39m column_translated\n",
      "File \u001b[1;32m~\\AppData\\Local\\Programs\\Python\\Python312\\Lib\\site-packages\\pandas\\core\\frame.py:4311\u001b[0m, in \u001b[0;36mDataFrame.__setitem__\u001b[1;34m(self, key, value)\u001b[0m\n\u001b[0;32m   4308\u001b[0m     \u001b[38;5;28mself\u001b[39m\u001b[38;5;241m.\u001b[39m_setitem_array([key], value)\n\u001b[0;32m   4309\u001b[0m \u001b[38;5;28;01melse\u001b[39;00m:\n\u001b[0;32m   4310\u001b[0m     \u001b[38;5;66;03m# set column\u001b[39;00m\n\u001b[1;32m-> 4311\u001b[0m     \u001b[38;5;28;43mself\u001b[39;49m\u001b[38;5;241;43m.\u001b[39;49m\u001b[43m_set_item\u001b[49m\u001b[43m(\u001b[49m\u001b[43mkey\u001b[49m\u001b[43m,\u001b[49m\u001b[43m \u001b[49m\u001b[43mvalue\u001b[49m\u001b[43m)\u001b[49m\n",
      "File \u001b[1;32m~\\AppData\\Local\\Programs\\Python\\Python312\\Lib\\site-packages\\pandas\\core\\frame.py:4524\u001b[0m, in \u001b[0;36mDataFrame._set_item\u001b[1;34m(self, key, value)\u001b[0m\n\u001b[0;32m   4514\u001b[0m \u001b[38;5;28;01mdef\u001b[39;00m \u001b[38;5;21m_set_item\u001b[39m(\u001b[38;5;28mself\u001b[39m, key, value) \u001b[38;5;241m-\u001b[39m\u001b[38;5;241m>\u001b[39m \u001b[38;5;28;01mNone\u001b[39;00m:\n\u001b[0;32m   4515\u001b[0m \u001b[38;5;250m    \u001b[39m\u001b[38;5;124;03m\"\"\"\u001b[39;00m\n\u001b[0;32m   4516\u001b[0m \u001b[38;5;124;03m    Add series to DataFrame in specified column.\u001b[39;00m\n\u001b[0;32m   4517\u001b[0m \n\u001b[1;32m   (...)\u001b[0m\n\u001b[0;32m   4522\u001b[0m \u001b[38;5;124;03m    ensure homogeneity.\u001b[39;00m\n\u001b[0;32m   4523\u001b[0m \u001b[38;5;124;03m    \"\"\"\u001b[39;00m\n\u001b[1;32m-> 4524\u001b[0m     value, refs \u001b[38;5;241m=\u001b[39m \u001b[38;5;28;43mself\u001b[39;49m\u001b[38;5;241;43m.\u001b[39;49m\u001b[43m_sanitize_column\u001b[49m\u001b[43m(\u001b[49m\u001b[43mvalue\u001b[49m\u001b[43m)\u001b[49m\n\u001b[0;32m   4526\u001b[0m     \u001b[38;5;28;01mif\u001b[39;00m (\n\u001b[0;32m   4527\u001b[0m         key \u001b[38;5;129;01min\u001b[39;00m \u001b[38;5;28mself\u001b[39m\u001b[38;5;241m.\u001b[39mcolumns\n\u001b[0;32m   4528\u001b[0m         \u001b[38;5;129;01mand\u001b[39;00m value\u001b[38;5;241m.\u001b[39mndim \u001b[38;5;241m==\u001b[39m \u001b[38;5;241m1\u001b[39m\n\u001b[0;32m   4529\u001b[0m         \u001b[38;5;129;01mand\u001b[39;00m \u001b[38;5;129;01mnot\u001b[39;00m \u001b[38;5;28misinstance\u001b[39m(value\u001b[38;5;241m.\u001b[39mdtype, ExtensionDtype)\n\u001b[0;32m   4530\u001b[0m     ):\n\u001b[0;32m   4531\u001b[0m         \u001b[38;5;66;03m# broadcast across multiple columns if necessary\u001b[39;00m\n\u001b[0;32m   4532\u001b[0m         \u001b[38;5;28;01mif\u001b[39;00m \u001b[38;5;129;01mnot\u001b[39;00m \u001b[38;5;28mself\u001b[39m\u001b[38;5;241m.\u001b[39mcolumns\u001b[38;5;241m.\u001b[39mis_unique \u001b[38;5;129;01mor\u001b[39;00m \u001b[38;5;28misinstance\u001b[39m(\u001b[38;5;28mself\u001b[39m\u001b[38;5;241m.\u001b[39mcolumns, MultiIndex):\n",
      "File \u001b[1;32m~\\AppData\\Local\\Programs\\Python\\Python312\\Lib\\site-packages\\pandas\\core\\frame.py:5266\u001b[0m, in \u001b[0;36mDataFrame._sanitize_column\u001b[1;34m(self, value)\u001b[0m\n\u001b[0;32m   5263\u001b[0m     \u001b[38;5;28;01mreturn\u001b[39;00m _reindex_for_setitem(value, \u001b[38;5;28mself\u001b[39m\u001b[38;5;241m.\u001b[39mindex)\n\u001b[0;32m   5265\u001b[0m \u001b[38;5;28;01mif\u001b[39;00m is_list_like(value):\n\u001b[1;32m-> 5266\u001b[0m     \u001b[43mcom\u001b[49m\u001b[38;5;241;43m.\u001b[39;49m\u001b[43mrequire_length_match\u001b[49m\u001b[43m(\u001b[49m\u001b[43mvalue\u001b[49m\u001b[43m,\u001b[49m\u001b[43m \u001b[49m\u001b[38;5;28;43mself\u001b[39;49m\u001b[38;5;241;43m.\u001b[39;49m\u001b[43mindex\u001b[49m\u001b[43m)\u001b[49m\n\u001b[0;32m   5267\u001b[0m arr \u001b[38;5;241m=\u001b[39m sanitize_array(value, \u001b[38;5;28mself\u001b[39m\u001b[38;5;241m.\u001b[39mindex, copy\u001b[38;5;241m=\u001b[39m\u001b[38;5;28;01mTrue\u001b[39;00m, allow_2d\u001b[38;5;241m=\u001b[39m\u001b[38;5;28;01mTrue\u001b[39;00m)\n\u001b[0;32m   5268\u001b[0m \u001b[38;5;28;01mif\u001b[39;00m (\n\u001b[0;32m   5269\u001b[0m     \u001b[38;5;28misinstance\u001b[39m(value, Index)\n\u001b[0;32m   5270\u001b[0m     \u001b[38;5;129;01mand\u001b[39;00m value\u001b[38;5;241m.\u001b[39mdtype \u001b[38;5;241m==\u001b[39m \u001b[38;5;124m\"\u001b[39m\u001b[38;5;124mobject\u001b[39m\u001b[38;5;124m\"\u001b[39m\n\u001b[1;32m   (...)\u001b[0m\n\u001b[0;32m   5273\u001b[0m     \u001b[38;5;66;03m# TODO: Remove kludge in sanitize_array for string mode when enforcing\u001b[39;00m\n\u001b[0;32m   5274\u001b[0m     \u001b[38;5;66;03m# this deprecation\u001b[39;00m\n",
      "File \u001b[1;32m~\\AppData\\Local\\Programs\\Python\\Python312\\Lib\\site-packages\\pandas\\core\\common.py:573\u001b[0m, in \u001b[0;36mrequire_length_match\u001b[1;34m(data, index)\u001b[0m\n\u001b[0;32m    569\u001b[0m \u001b[38;5;250m\u001b[39m\u001b[38;5;124;03m\"\"\"\u001b[39;00m\n\u001b[0;32m    570\u001b[0m \u001b[38;5;124;03mCheck the length of data matches the length of the index.\u001b[39;00m\n\u001b[0;32m    571\u001b[0m \u001b[38;5;124;03m\"\"\"\u001b[39;00m\n\u001b[0;32m    572\u001b[0m \u001b[38;5;28;01mif\u001b[39;00m \u001b[38;5;28mlen\u001b[39m(data) \u001b[38;5;241m!=\u001b[39m \u001b[38;5;28mlen\u001b[39m(index):\n\u001b[1;32m--> 573\u001b[0m     \u001b[38;5;28;01mraise\u001b[39;00m \u001b[38;5;167;01mValueError\u001b[39;00m(\n\u001b[0;32m    574\u001b[0m         \u001b[38;5;124m\"\u001b[39m\u001b[38;5;124mLength of values \u001b[39m\u001b[38;5;124m\"\u001b[39m\n\u001b[0;32m    575\u001b[0m         \u001b[38;5;124mf\u001b[39m\u001b[38;5;124m\"\u001b[39m\u001b[38;5;124m(\u001b[39m\u001b[38;5;132;01m{\u001b[39;00m\u001b[38;5;28mlen\u001b[39m(data)\u001b[38;5;132;01m}\u001b[39;00m\u001b[38;5;124m) \u001b[39m\u001b[38;5;124m\"\u001b[39m\n\u001b[0;32m    576\u001b[0m         \u001b[38;5;124m\"\u001b[39m\u001b[38;5;124mdoes not match length of index \u001b[39m\u001b[38;5;124m\"\u001b[39m\n\u001b[0;32m    577\u001b[0m         \u001b[38;5;124mf\u001b[39m\u001b[38;5;124m\"\u001b[39m\u001b[38;5;124m(\u001b[39m\u001b[38;5;132;01m{\u001b[39;00m\u001b[38;5;28mlen\u001b[39m(index)\u001b[38;5;132;01m}\u001b[39;00m\u001b[38;5;124m)\u001b[39m\u001b[38;5;124m\"\u001b[39m\n\u001b[0;32m    578\u001b[0m     )\n",
      "\u001b[1;31mValueError\u001b[0m: Length of values (10) does not match length of index (3372)"
     ]
    }
   ],
   "source": [
    "# Now column_translated should match the length of the DataFrame\n",
    "df['ZoneDescription(Pl)'] = column_translated"
   ]
  },
  {
   "cell_type": "code",
   "execution_count": null,
   "id": "3c2833d7-6f1c-4d7e-b8d1-86a96e642fad",
   "metadata": {},
   "outputs": [],
   "source": [
    "df.head(10)"
   ]
  },
  {
   "cell_type": "code",
   "execution_count": null,
   "id": "c458f231-9b9a-4b7f-8785-b76691ab31b4",
   "metadata": {},
   "outputs": [],
   "source": [
    "# Save dataset to file\n",
    "df.to_csv(file_name_save, sep=';', index=False, encoding='utf-8')"
   ]
  },
  {
   "cell_type": "code",
   "execution_count": null,
   "id": "885e9d73-8311-4d05-86d2-d5d62451c4e6",
   "metadata": {},
   "outputs": [],
   "source": []
  },
  {
   "cell_type": "code",
   "execution_count": null,
   "id": "5cf3d80a-de1c-460c-ad9d-7c2114959451",
   "metadata": {},
   "outputs": [],
   "source": [
    "# Load data to dataset\n",
    "#df_pl = pd.read_csv(\"AlarmTranslation_pl.csv\", sep=';', encoding='utf-8')\n",
    "#df_pl.head(10)"
   ]
  },
  {
   "cell_type": "code",
   "execution_count": null,
   "id": "739ba40b-d64e-400d-9e25-b138c04d245b",
   "metadata": {},
   "outputs": [],
   "source": []
  }
 ],
 "metadata": {
  "kernelspec": {
   "display_name": "Python 3 (ipykernel)",
   "language": "python",
   "name": "python3"
  },
  "language_info": {
   "codemirror_mode": {
    "name": "ipython",
    "version": 3
   },
   "file_extension": ".py",
   "mimetype": "text/x-python",
   "name": "python",
   "nbconvert_exporter": "python",
   "pygments_lexer": "ipython3",
   "version": "3.12.3"
  }
 },
 "nbformat": 4,
 "nbformat_minor": 5
}
