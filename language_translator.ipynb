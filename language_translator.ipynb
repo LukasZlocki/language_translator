{
 "cells": [
  {
   "cell_type": "code",
   "execution_count": 1,
   "id": "d6dd188d-7a00-4799-aaae-6195d882b506",
   "metadata": {},
   "outputs": [],
   "source": [
    "from googletrans import Translator\n",
    "import asyncio\n",
    "import pandas as pd"
   ]
  },
  {
   "cell_type": "code",
   "execution_count": 2,
   "id": "086318bc-e2ab-45c7-bae8-248e5bd39a93",
   "metadata": {},
   "outputs": [],
   "source": [
    "async def translate_to_given_language(text, destination_language):\n",
    "    \"\"\" \n",
    "    Translate the given text to the specified destination language. \n",
    "    Arguments: \n",
    "        text (str): The text to translate. \n",
    "        dest_language (str): The language code for the destination language (e.g., 'es' for Spanish, 'fr' for French). \n",
    "    Returns: \n",
    "        str: The translated text. \n",
    "    \"\"\"\n",
    "    \n",
    "    translator = Translator()\n",
    "    translation = await translator.translate(text, dest=destination_language)\n",
    "    return translation.text"
   ]
  },
  {
   "cell_type": "code",
   "execution_count": 3,
   "id": "a22a6fb5-40b3-410e-8c4a-dad095c57ed5",
   "metadata": {},
   "outputs": [],
   "source": [
    "async def translate_dataset(dataset, destination_language): \n",
    "    \"\"\" Translate a dataset of text to the specified destination language. \n",
    "    Arguments: \n",
    "        dataset (list): A list of text to translate. \n",
    "        destination_language (str): The language code for the destination language (e.g., 'pl' for Polish). \n",
    "        \n",
    "    Returns: list: A list of translated text. \n",
    "    \"\"\" \n",
    "    \n",
    "    tasks = [translate_to_given_language(text, destination_language) for text in dataset] \n",
    "    translated_dataset = await asyncio.gather(*tasks) \n",
    "    \n",
    "    return translated_dataset"
   ]
  },
  {
   "cell_type": "code",
   "execution_count": 56,
   "id": "b7c957c2-3dad-4f57-a246-1f2367779a9a",
   "metadata": {},
   "outputs": [],
   "source": [
    "# File name to read\n",
    "file_name_read = 'BT_ObjectTranslation.csv'\n",
    "\n",
    "# File name to save\n",
    "file_name_save = 'BT_ObjectTranslation_pl.csv'"
   ]
  },
  {
   "cell_type": "code",
   "execution_count": null,
   "id": "d80440a2-8917-4e52-b946-8a292df41ae8",
   "metadata": {},
   "outputs": [],
   "source": [
    "# Load data to dataset\n",
    "df = pd.read_csv(file_name, sep=';')"
   ]
  },
  {
   "cell_type": "code",
   "execution_count": 39,
   "id": "6179ef63-d48e-4cc3-87ce-ad303077a0aa",
   "metadata": {},
   "outputs": [
    {
     "data": {
      "text/html": [
       "<div>\n",
       "<style scoped>\n",
       "    .dataframe tbody tr th:only-of-type {\n",
       "        vertical-align: middle;\n",
       "    }\n",
       "\n",
       "    .dataframe tbody tr th {\n",
       "        vertical-align: top;\n",
       "    }\n",
       "\n",
       "    .dataframe thead th {\n",
       "        text-align: right;\n",
       "    }\n",
       "</style>\n",
       "<table border=\"1\" class=\"dataframe\">\n",
       "  <thead>\n",
       "    <tr style=\"text-align: right;\">\n",
       "      <th></th>\n",
       "      <th>ObjectCode</th>\n",
       "      <th>Field</th>\n",
       "      <th>it-IT</th>\n",
       "      <th>en</th>\n",
       "      <th>pl-PL</th>\n",
       "    </tr>\n",
       "  </thead>\n",
       "  <tbody>\n",
       "    <tr>\n",
       "      <th>0</th>\n",
       "      <td>Canc_Missione</td>\n",
       "      <td>C00</td>\n",
       "      <td>Cancella missione</td>\n",
       "      <td>Delete mission</td>\n",
       "      <td>NaN</td>\n",
       "    </tr>\n",
       "    <tr>\n",
       "      <th>1</th>\n",
       "      <td>Canc_Missione</td>\n",
       "      <td>C01</td>\n",
       "      <td>Cancella missione</td>\n",
       "      <td>Delete mission</td>\n",
       "      <td>NaN</td>\n",
       "    </tr>\n",
       "    <tr>\n",
       "      <th>2</th>\n",
       "      <td>Canc_Missione</td>\n",
       "      <td>C10</td>\n",
       "      <td>Cancella missione</td>\n",
       "      <td>Delete mission</td>\n",
       "      <td>NaN</td>\n",
       "    </tr>\n",
       "    <tr>\n",
       "      <th>3</th>\n",
       "      <td>Canc_Missione</td>\n",
       "      <td>C11</td>\n",
       "      <td>Cancella missione</td>\n",
       "      <td>Delete mission</td>\n",
       "      <td>NaN</td>\n",
       "    </tr>\n",
       "    <tr>\n",
       "      <th>4</th>\n",
       "      <td>ConsensoScarico</td>\n",
       "      <td>C00</td>\n",
       "      <td>Consenso Scarico</td>\n",
       "      <td>Unload Consent</td>\n",
       "      <td>NaN</td>\n",
       "    </tr>\n",
       "    <tr>\n",
       "      <th>5</th>\n",
       "      <td>ConsensoScarico</td>\n",
       "      <td>C01</td>\n",
       "      <td>Consenso Scarico</td>\n",
       "      <td>Unload Consent</td>\n",
       "      <td>NaN</td>\n",
       "    </tr>\n",
       "    <tr>\n",
       "      <th>6</th>\n",
       "      <td>ConsensoScarico</td>\n",
       "      <td>C10</td>\n",
       "      <td>Consenso Scarico</td>\n",
       "      <td>Unload Consent</td>\n",
       "      <td>NaN</td>\n",
       "    </tr>\n",
       "    <tr>\n",
       "      <th>7</th>\n",
       "      <td>ConsensoScarico</td>\n",
       "      <td>C11</td>\n",
       "      <td>Consenso Scarico</td>\n",
       "      <td>Unload Consent</td>\n",
       "      <td>NaN</td>\n",
       "    </tr>\n",
       "    <tr>\n",
       "      <th>8</th>\n",
       "      <td>ConsTrattamento</td>\n",
       "      <td>C00</td>\n",
       "      <td>Consenso trattamento</td>\n",
       "      <td>Treatment consent</td>\n",
       "      <td>NaN</td>\n",
       "    </tr>\n",
       "    <tr>\n",
       "      <th>9</th>\n",
       "      <td>ConsTrattamento</td>\n",
       "      <td>C01</td>\n",
       "      <td>Consenso trattamento</td>\n",
       "      <td>Treatment consent</td>\n",
       "      <td>NaN</td>\n",
       "    </tr>\n",
       "  </tbody>\n",
       "</table>\n",
       "</div>"
      ],
      "text/plain": [
       "        ObjectCode Field                 it-IT                 en  pl-PL\n",
       "0    Canc_Missione   C00     Cancella missione     Delete mission    NaN\n",
       "1    Canc_Missione   C01     Cancella missione     Delete mission    NaN\n",
       "2    Canc_Missione   C10     Cancella missione     Delete mission    NaN\n",
       "3    Canc_Missione   C11     Cancella missione     Delete mission    NaN\n",
       "4  ConsensoScarico   C00      Consenso Scarico     Unload Consent    NaN\n",
       "5  ConsensoScarico   C01      Consenso Scarico     Unload Consent    NaN\n",
       "6  ConsensoScarico   C10      Consenso Scarico     Unload Consent    NaN\n",
       "7  ConsensoScarico   C11      Consenso Scarico     Unload Consent    NaN\n",
       "8  ConsTrattamento   C00  Consenso trattamento  Treatment consent    NaN\n",
       "9  ConsTrattamento   C01  Consenso trattamento  Treatment consent    NaN"
      ]
     },
     "execution_count": 39,
     "metadata": {},
     "output_type": "execute_result"
    }
   ],
   "source": [
    "df.head(10)"
   ]
  },
  {
   "cell_type": "code",
   "execution_count": 40,
   "id": "a316ff45-aa14-40d0-8139-6e024191bc45",
   "metadata": {},
   "outputs": [
    {
     "data": {
      "text/plain": [
       "Index(['ObjectCode', 'Field', 'it-IT', 'en', 'pl-PL'], dtype='object')"
      ]
     },
     "execution_count": 40,
     "metadata": {},
     "output_type": "execute_result"
    }
   ],
   "source": [
    "df.columns"
   ]
  },
  {
   "cell_type": "code",
   "execution_count": 48,
   "id": "4a6c0d79-11f6-43e4-a335-8d1c7edf140c",
   "metadata": {},
   "outputs": [
    {
     "data": {
      "text/plain": [
       "0       Delete mission\n",
       "1       Delete mission\n",
       "2       Delete mission\n",
       "3       Delete mission\n",
       "4       Unload Consent\n",
       "5       Unload Consent\n",
       "6       Unload Consent\n",
       "7       Unload Consent\n",
       "8    Treatment consent\n",
       "9    Treatment consent\n",
       "Name: en, dtype: object"
      ]
     },
     "execution_count": 48,
     "metadata": {},
     "output_type": "execute_result"
    }
   ],
   "source": [
    "extracted_df = df['en']\n",
    "extracted_df.head(10)"
   ]
  },
  {
   "cell_type": "code",
   "execution_count": 49,
   "id": "ed9d1ac5-d835-4da6-8d0c-e0eb1d97c8ac",
   "metadata": {},
   "outputs": [
    {
     "data": {
      "text/plain": [
       "Index(['ObjectCode', 'Field', 'it-IT', 'en', 'pl-PL'], dtype='object')"
      ]
     },
     "execution_count": 49,
     "metadata": {},
     "output_type": "execute_result"
    }
   ],
   "source": [
    "df.columns"
   ]
  },
  {
   "cell_type": "code",
   "execution_count": 50,
   "id": "a5ace483-d721-4b16-9e51-9bac759eaed1",
   "metadata": {},
   "outputs": [],
   "source": [
    "column_translated = await translate_dataset(extracted_df, 'pl')"
   ]
  },
  {
   "cell_type": "code",
   "execution_count": 52,
   "id": "ef402b1c-ec0e-4354-9144-b5cd53c3be33",
   "metadata": {},
   "outputs": [
    {
     "data": {
      "text/plain": [
       "['Usuń misję',\n",
       " 'Usuń misję',\n",
       " 'Usuń misję',\n",
       " 'Usuń misję',\n",
       " 'Wyładuj zgodę',\n",
       " 'Wyładuj zgodę',\n",
       " 'Rozładuj zgodę',\n",
       " 'Wyładuj zgodę',\n",
       " 'Zgoda na leczenie',\n",
       " 'Zgoda na leczenie',\n",
       " 'Zgoda na leczenie',\n",
       " 'Zgoda na leczenie',\n",
       " 'Napraw cykl',\n",
       " 'Wieloprog.',\n",
       " 'Napraw cykl',\n",
       " 'Wieloprog.',\n",
       " 'Noc',\n",
       " 'Noc',\n",
       " 'Noc',\n",
       " 'Noc',\n",
       " 'Zresetuj cykl',\n",
       " 'Zresetuj cykl',\n",
       " 'Zresetuj cykl',\n",
       " 'Zresetuj cykl',\n",
       " 'Rozpocznij cykl',\n",
       " 'Rozpocznij cykl',\n",
       " 'Rozpocznij cykl',\n",
       " 'Rozpocznij cykl',\n",
       " 'Zatrzymaj cykl końcowy',\n",
       " 'Zatrzymaj cykl końcowy',\n",
       " 'Zatrzymaj cykl końcowy',\n",
       " 'Zatrzymaj cykl końcowy',\n",
       " 'Zatrzymaj fazę końcową',\n",
       " 'Zatrzymaj fazę końcową',\n",
       " 'Zatrzymaj fazę końcową',\n",
       " 'Zatrzymaj fazę końcową',\n",
       " 'Próba lampy',\n",
       " 'Próba lampy',\n",
       " 'Próba lampy',\n",
       " 'Próba lampy',\n",
       " 'Pusty pasek do załadowania',\n",
       " 'Pusty pasek do przechowywania',\n",
       " 'Pusty pasek do załadowania',\n",
       " 'Pusty pasek do przechowywania']"
      ]
     },
     "execution_count": 52,
     "metadata": {},
     "output_type": "execute_result"
    }
   ],
   "source": [
    "column_translated"
   ]
  },
  {
   "cell_type": "code",
   "execution_count": 53,
   "id": "0171d959-4221-405a-98e9-b3039fb4cb05",
   "metadata": {},
   "outputs": [],
   "source": [
    "df['pl-PL'] = column_translated"
   ]
  },
  {
   "cell_type": "code",
   "execution_count": 55,
   "id": "3c2833d7-6f1c-4d7e-b8d1-86a96e642fad",
   "metadata": {},
   "outputs": [
    {
     "data": {
      "text/html": [
       "<div>\n",
       "<style scoped>\n",
       "    .dataframe tbody tr th:only-of-type {\n",
       "        vertical-align: middle;\n",
       "    }\n",
       "\n",
       "    .dataframe tbody tr th {\n",
       "        vertical-align: top;\n",
       "    }\n",
       "\n",
       "    .dataframe thead th {\n",
       "        text-align: right;\n",
       "    }\n",
       "</style>\n",
       "<table border=\"1\" class=\"dataframe\">\n",
       "  <thead>\n",
       "    <tr style=\"text-align: right;\">\n",
       "      <th></th>\n",
       "      <th>ObjectCode</th>\n",
       "      <th>Field</th>\n",
       "      <th>it-IT</th>\n",
       "      <th>en</th>\n",
       "      <th>pl-PL</th>\n",
       "    </tr>\n",
       "  </thead>\n",
       "  <tbody>\n",
       "    <tr>\n",
       "      <th>0</th>\n",
       "      <td>Canc_Missione</td>\n",
       "      <td>C00</td>\n",
       "      <td>Cancella missione</td>\n",
       "      <td>Delete mission</td>\n",
       "      <td>Usuń misję</td>\n",
       "    </tr>\n",
       "    <tr>\n",
       "      <th>1</th>\n",
       "      <td>Canc_Missione</td>\n",
       "      <td>C01</td>\n",
       "      <td>Cancella missione</td>\n",
       "      <td>Delete mission</td>\n",
       "      <td>Usuń misję</td>\n",
       "    </tr>\n",
       "    <tr>\n",
       "      <th>2</th>\n",
       "      <td>Canc_Missione</td>\n",
       "      <td>C10</td>\n",
       "      <td>Cancella missione</td>\n",
       "      <td>Delete mission</td>\n",
       "      <td>Usuń misję</td>\n",
       "    </tr>\n",
       "    <tr>\n",
       "      <th>3</th>\n",
       "      <td>Canc_Missione</td>\n",
       "      <td>C11</td>\n",
       "      <td>Cancella missione</td>\n",
       "      <td>Delete mission</td>\n",
       "      <td>Usuń misję</td>\n",
       "    </tr>\n",
       "    <tr>\n",
       "      <th>4</th>\n",
       "      <td>ConsensoScarico</td>\n",
       "      <td>C00</td>\n",
       "      <td>Consenso Scarico</td>\n",
       "      <td>Unload Consent</td>\n",
       "      <td>Wyładuj zgodę</td>\n",
       "    </tr>\n",
       "    <tr>\n",
       "      <th>5</th>\n",
       "      <td>ConsensoScarico</td>\n",
       "      <td>C01</td>\n",
       "      <td>Consenso Scarico</td>\n",
       "      <td>Unload Consent</td>\n",
       "      <td>Wyładuj zgodę</td>\n",
       "    </tr>\n",
       "    <tr>\n",
       "      <th>6</th>\n",
       "      <td>ConsensoScarico</td>\n",
       "      <td>C10</td>\n",
       "      <td>Consenso Scarico</td>\n",
       "      <td>Unload Consent</td>\n",
       "      <td>Rozładuj zgodę</td>\n",
       "    </tr>\n",
       "    <tr>\n",
       "      <th>7</th>\n",
       "      <td>ConsensoScarico</td>\n",
       "      <td>C11</td>\n",
       "      <td>Consenso Scarico</td>\n",
       "      <td>Unload Consent</td>\n",
       "      <td>Wyładuj zgodę</td>\n",
       "    </tr>\n",
       "    <tr>\n",
       "      <th>8</th>\n",
       "      <td>ConsTrattamento</td>\n",
       "      <td>C00</td>\n",
       "      <td>Consenso trattamento</td>\n",
       "      <td>Treatment consent</td>\n",
       "      <td>Zgoda na leczenie</td>\n",
       "    </tr>\n",
       "    <tr>\n",
       "      <th>9</th>\n",
       "      <td>ConsTrattamento</td>\n",
       "      <td>C01</td>\n",
       "      <td>Consenso trattamento</td>\n",
       "      <td>Treatment consent</td>\n",
       "      <td>Zgoda na leczenie</td>\n",
       "    </tr>\n",
       "  </tbody>\n",
       "</table>\n",
       "</div>"
      ],
      "text/plain": [
       "        ObjectCode Field                 it-IT                 en  \\\n",
       "0    Canc_Missione   C00     Cancella missione     Delete mission   \n",
       "1    Canc_Missione   C01     Cancella missione     Delete mission   \n",
       "2    Canc_Missione   C10     Cancella missione     Delete mission   \n",
       "3    Canc_Missione   C11     Cancella missione     Delete mission   \n",
       "4  ConsensoScarico   C00      Consenso Scarico     Unload Consent   \n",
       "5  ConsensoScarico   C01      Consenso Scarico     Unload Consent   \n",
       "6  ConsensoScarico   C10      Consenso Scarico     Unload Consent   \n",
       "7  ConsensoScarico   C11      Consenso Scarico     Unload Consent   \n",
       "8  ConsTrattamento   C00  Consenso trattamento  Treatment consent   \n",
       "9  ConsTrattamento   C01  Consenso trattamento  Treatment consent   \n",
       "\n",
       "               pl-PL  \n",
       "0         Usuń misję  \n",
       "1         Usuń misję  \n",
       "2         Usuń misję  \n",
       "3         Usuń misję  \n",
       "4      Wyładuj zgodę  \n",
       "5      Wyładuj zgodę  \n",
       "6     Rozładuj zgodę  \n",
       "7      Wyładuj zgodę  \n",
       "8  Zgoda na leczenie  \n",
       "9  Zgoda na leczenie  "
      ]
     },
     "execution_count": 55,
     "metadata": {},
     "output_type": "execute_result"
    }
   ],
   "source": [
    "df.head(10)"
   ]
  },
  {
   "cell_type": "code",
   "execution_count": 57,
   "id": "c458f231-9b9a-4b7f-8785-b76691ab31b4",
   "metadata": {},
   "outputs": [],
   "source": [
    "# Save dataset to file\n",
    "df.to_csv(file_name_save, index=False)"
   ]
  },
  {
   "cell_type": "code",
   "execution_count": null,
   "id": "885e9d73-8311-4d05-86d2-d5d62451c4e6",
   "metadata": {},
   "outputs": [],
   "source": []
  }
 ],
 "metadata": {
  "kernelspec": {
   "display_name": "Python 3 (ipykernel)",
   "language": "python",
   "name": "python3"
  },
  "language_info": {
   "codemirror_mode": {
    "name": "ipython",
    "version": 3
   },
   "file_extension": ".py",
   "mimetype": "text/x-python",
   "name": "python",
   "nbconvert_exporter": "python",
   "pygments_lexer": "ipython3",
   "version": "3.12.3"
  }
 },
 "nbformat": 4,
 "nbformat_minor": 5
}
