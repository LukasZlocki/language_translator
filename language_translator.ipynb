{
 "cells": [
  {
   "cell_type": "code",
   "execution_count": null,
   "id": "d6dd188d-7a00-4799-aaae-6195d882b506",
   "metadata": {},
   "outputs": [],
   "source": [
    "from googletrans import Translator\n",
    "import asyncio"
   ]
  },
  {
   "cell_type": "code",
   "execution_count": null,
   "id": "086318bc-e2ab-45c7-bae8-248e5bd39a93",
   "metadata": {},
   "outputs": [],
   "source": [
    "async def translate_to_given_language(text, destination_language):\n",
    "    \"\"\" \n",
    "    Translate the given text to the specified destination language. \n",
    "    Arguments: \n",
    "        text (str): The text to translate. \n",
    "        dest_language (str): The language code for the destination language (e.g., 'es' for Spanish, 'fr' for French). \n",
    "    Returns: \n",
    "        str: The translated text. \n",
    "    \"\"\"\n",
    "    \n",
    "    translator = Translator()\n",
    "    translation = await translator.translate(text, dest=destination_language)\n",
    "    return translation.text"
   ]
  },
  {
   "cell_type": "code",
   "execution_count": null,
   "id": "a22a6fb5-40b3-410e-8c4a-dad095c57ed5",
   "metadata": {},
   "outputs": [],
   "source": [
    "async def translate_dataset(dataset, destination_language): \n",
    "    \"\"\" Translate a dataset of text to the specified destination language. \n",
    "    Arguments: \n",
    "        dataset (list): A list of text to translate. \n",
    "        destination_language (str): The language code for the destination language (e.g., 'pl' for Polish). \n",
    "        \n",
    "    Returns: list: A list of translated text. \n",
    "    \"\"\" \n",
    "    \n",
    "    tasks = [translate_to_given_language(text, destination_language) for text in dataset] \n",
    "    translated_dataset = await asyncio.gather(*tasks) \n",
    "    \n",
    "    return translated_dataset"
   ]
  },
  {
   "cell_type": "code",
   "execution_count": null,
   "id": "b7c957c2-3dad-4f57-a246-1f2367779a9a",
   "metadata": {},
   "outputs": [],
   "source": []
  }
 ],
 "metadata": {
  "kernelspec": {
   "display_name": "Python 3 (ipykernel)",
   "language": "python",
   "name": "python3"
  },
  "language_info": {
   "codemirror_mode": {
    "name": "ipython",
    "version": 3
   },
   "file_extension": ".py",
   "mimetype": "text/x-python",
   "name": "python",
   "nbconvert_exporter": "python",
   "pygments_lexer": "ipython3",
   "version": "3.12.3"
  }
 },
 "nbformat": 4,
 "nbformat_minor": 5
}
